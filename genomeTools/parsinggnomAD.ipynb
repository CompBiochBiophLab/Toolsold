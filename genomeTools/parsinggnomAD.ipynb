{
 "cells": [
  {
   "cell_type": "markdown",
   "metadata": {},
   "source": [
    "# Parsing CSV files from individual genes in gnomAD\n",
    "\n",
    "Example: [file obtained for GPX2:](https://gnomad.broadinstitute.org/gene/ENSG00000176153)\n",
    "\n",
    "```csv\n",
    "Chromosome,Position,rsIDs,Reference,Alternate,Source,Filters - exomes,Filters - genomes,Transcript,HGVS Consequence,Protein Consequence,Transcript Consequence,VEP Annotation,ClinVar Clinical Significance,ClinVar Variation ID,Flags,Allele Count,Allele Number,Allele Frequency,Homozygote Count,Hemizygote Count,Allele Count African/African American,Allele Number African/African American,Homozygote Count African/African American,Hemizygote Count African/African American,Allele Count Latino/Admixed American,Allele Number Latino/Admixed American,Homozygote Count Latino/Admixed American,Hemizygote Count Latino/Admixed American,Allele Count Ashkenazi Jewish,Allele Number Ashkenazi Jewish,Homozygote Count Ashkenazi Jewish,Hemizygote Count Ashkenazi Jewish,Allele Count East Asian,Allele Number East Asian,Homozygote Count East Asian,Hemizygote Count East Asian,Allele Count European (Finnish),Allele Number European (Finnish),Homozygote Count European (Finnish),Hemizygote Count European (Finnish),Allele Count European (non-Finnish),Allele Number European (non-Finnish),Homozygote Count European (non-Finnish),Hemizygote Count European (non-Finnish),Allele Count Other,Allele Number Other,Homozygote Count Other,Hemizygote Count Other,Allele Count South Asian,Allele Number South Asian,Homozygote Count South Asian,Hemizygote Count South Asian\n",
    "14,65406155,rs1471966487,G,T,gnomAD Exomes,PASS,NA,ENST00000389614.5,c.*51C>A,,c.*51C>A,3_prime_UTR_variant,,,,1,218184,0.0000045832875004583285,0,0,0,15192,0,0,0,31042,0,0,0,6818,0,0,1,17494,0,0,0,19274,0,0,0,100426,0,0,0,5126,0,0,0,22812,0,0\n",
    "14,65406166,rs1418718413,C,T,gnomAD Exomes,PASS,NA,ENST00000389614.5,c.*40G>A,,c.*40G>A,3_prime_UTR_variant,,,,1,229576,0.00000435585601282364,0,0,0,15322,0,0,0,32902,0,0,0,7906,0,0,1,17834,0,0,0,20042,0,0,0,104758,0,0,0,5506,0,0,0,25306,0,0\n",
    "```"
   ]
  },
  {
   "cell_type": "code",
   "execution_count": 30,
   "metadata": {},
   "outputs": [
    {
     "data": {
      "text/html": [
       "<div>\n",
       "<style scoped>\n",
       "    .dataframe tbody tr th:only-of-type {\n",
       "        vertical-align: middle;\n",
       "    }\n",
       "\n",
       "    .dataframe tbody tr th {\n",
       "        vertical-align: top;\n",
       "    }\n",
       "\n",
       "    .dataframe thead th {\n",
       "        text-align: right;\n",
       "    }\n",
       "</style>\n",
       "<table border=\"1\" class=\"dataframe\">\n",
       "  <thead>\n",
       "    <tr style=\"text-align: right;\">\n",
       "      <th></th>\n",
       "      <th>Protein Consequence</th>\n",
       "      <th>ClinVar Clinical Significance</th>\n",
       "    </tr>\n",
       "  </thead>\n",
       "  <tbody>\n",
       "    <tr>\n",
       "      <th>27</th>\n",
       "      <td>p.Pro200Leu</td>\n",
       "      <td>Benign</td>\n",
       "    </tr>\n",
       "    <tr>\n",
       "      <th>251</th>\n",
       "      <td>p.Pro77Pro</td>\n",
       "      <td>Benign</td>\n",
       "    </tr>\n",
       "    <tr>\n",
       "      <th>349</th>\n",
       "      <td>p.Ala12_Ala13del</td>\n",
       "      <td>Benign</td>\n",
       "    </tr>\n",
       "    <tr>\n",
       "      <th>350</th>\n",
       "      <td>p.Ala13del</td>\n",
       "      <td>Benign</td>\n",
       "    </tr>\n",
       "  </tbody>\n",
       "</table>\n",
       "</div>"
      ],
      "text/plain": [
       "    Protein Consequence ClinVar Clinical Significance\n",
       "27          p.Pro200Leu                        Benign\n",
       "251          p.Pro77Pro                        Benign\n",
       "349    p.Ala12_Ala13del                        Benign\n",
       "350          p.Ala13del                        Benign"
      ]
     },
     "execution_count": 30,
     "metadata": {},
     "output_type": "execute_result"
    }
   ],
   "source": [
    "#!pip install pandas\n",
    "import pandas as pd\n",
    "from pathlib import Path\n",
    "\n",
    "# define the directory where I keep the data\n",
    "datadir = Path(\"\"\"~/data\"\"\")\n",
    "filename=datadir/\"gnomAD_v2.1.1_ENSG00000176153_2022_03_22_11_24_32.csv\"\n",
    "filename=datadir/\"gnomAD_v2.1.1_ENSG00000233276_2022_03_22_10_54_50.csv\"\n",
    "\n",
    "\n",
    "# load the CSV file\n",
    "data=pd.read_csv(filename)\n",
    "# print(data)\n",
    "data.loc[:,[\"Protein Consequence\",\"ClinVar Clinical Significance\"]]\n",
    "data = data[data[\"Protein Consequence\"].notna()].loc[:,[\"Protein Consequence\",\"ClinVar Clinical Significance\"]]\n",
    "data[data[\"ClinVar Clinical Significance\"].notna()]\n",
    "\n",
    "#contain_values = df[df["
   ]
  },
  {
   "cell_type": "code",
   "execution_count": 48,
   "metadata": {},
   "outputs": [
    {
     "name": "stdout",
     "output_type": "stream",
     "text": [
      "['7124', '3569', '3091', '5743', '3576', '5468', '4780', '5444', '2952', '2950', '4233', '2908', '13982', '335', '155871', '6648', '10135', '860', '2034', '9314']\n"
     ]
    },
    {
     "name": "stderr",
     "output_type": "stream",
     "text": [
      "IOPub data rate exceeded.\n",
      "The Jupyter server will temporarily stop sending output\n",
      "to the client in order to avoid crashing it.\n",
      "To change this limit, set the config variable\n",
      "`--ServerApp.iopub_data_rate_limit`.\n",
      "\n",
      "Current values:\n",
      "ServerApp.iopub_data_rate_limit=1000000.0 (bytes/sec)\n",
      "ServerApp.rate_limit_window=3.0 (secs)\n",
      "\n"
     ]
    }
   ],
   "source": [
    "from Bio import Entrez\n",
    "from Bio import SeqIO\n",
    "\n",
    "Entrez.email=\"jordi.villa@uvic.cat\"\n",
    "\n",
    "esearch_result = Entrez.esearch(db=\"gene\",term=\"GPX3 OR GPX6\",rettype='fasta',retmod=\"text\")\n",
    "parsed_result = Entrez.read(esearch_result)\n",
    "print(parsed_result['IdList'])\n",
    "\n",
    "\n",
    "request = Entrez.epost(\"gene\",id=\",\".join(parsed_result['IdList']))\n",
    "try:\n",
    "   result = Entrez.read(request)\n",
    "except RuntimeError as e:\n",
    "   #FIXME: How generate NAs instead of causing an error with invalid IDs?\n",
    "   print(\"An error occurred while retrieving the annotations.\")\n",
    "   print(\"The error returned was %s\" % e)\n",
    "   sys.exit(-1)\n",
    " \n",
    "webEnv = result[\"WebEnv\"]\n",
    "queryKey = result[\"QueryKey\"]\n",
    "efetch_result = Entrez.efetch(db=\"gene\", webenv=webEnv, query_key = queryKey, retmode=\"xml\")\n",
    "genes = Entrez.read(efetch_result)\n",
    "print(genes)\n"
   ]
  },
  {
   "cell_type": "code",
   "execution_count": null,
   "metadata": {},
   "outputs": [],
   "source": []
  }
 ],
 "metadata": {
  "interpreter": {
   "hash": "aee8b7b246df8f9039afb4144a1f6fd8d2ca17a180786b69acc140d282b71a49"
  },
  "kernelspec": {
   "display_name": "Python 3 (ipykernel)",
   "language": "python",
   "name": "python3"
  },
  "language_info": {
   "codemirror_mode": {
    "name": "ipython",
    "version": 3
   },
   "file_extension": ".py",
   "mimetype": "text/x-python",
   "name": "python",
   "nbconvert_exporter": "python",
   "pygments_lexer": "ipython3",
   "version": "3.10.0"
  }
 },
 "nbformat": 4,
 "nbformat_minor": 4
}
